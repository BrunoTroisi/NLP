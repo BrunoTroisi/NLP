{
 "cells": [
  {
   "cell_type": "code",
   "execution_count": 103,
   "id": "05aa0a16",
   "metadata": {},
   "outputs": [],
   "source": [
    "import sklearn\n",
    "import numpy as np\n",
    "import matplotlib.pyplot as plt"
   ]
  },
  {
   "cell_type": "code",
   "execution_count": 104,
   "id": "94f7bad5",
   "metadata": {},
   "outputs": [],
   "source": [
    "# Creamos una matriz bidimensional que representa una funcion\n",
    "data = np.array([[1,2], [2,3], [3,4], [4,5], [5,6]])\n",
    "x = data[:,0]\n",
    "y= data[:,1]"
   ]
  },
  {
   "cell_type": "code",
   "execution_count": 105,
   "id": "6a8a5be5",
   "metadata": {},
   "outputs": [
    {
     "data": {
      "image/png": "[encoded data removed]",
      "text/plain": [
       "<Figure size 432x288 with 1 Axes>"
      ]
     },
     "metadata": {
      "needs_background": "light"
     },
     "output_type": "display_data"
    }
   ],
   "source": [
    "# Visualizar la funcion\n",
    "plt.scatter(x,y)\n",
    "plt.grid(True)\n",
    "plt.show()"
   ]
  },
  {
   "cell_type": "code",
   "execution_count": 106,
   "id": "c77ca938",
   "metadata": {},
   "outputs": [],
   "source": [
    "# Creamos una instancia de la clase CountVectorizer\n",
    "from sklearn.feature_extraction.text import CountVectorizer\n",
    "vectorizer = CountVectorizer(min_df=1)"
   ]
  },
  {
   "cell_type": "code",
   "execution_count": 107,
   "id": "0b256739",
   "metadata": {},
   "outputs": [],
   "source": [
    "# Una vez que hemos creado la instancia, podemos utilizarlo para extraer una bolsa de palabras\n",
    "content = [\"How to format my hard disk\", \" Hard disk format problems \"]\n",
    "X = vectorizer.fit_transform(content)"
   ]
  },
  {
   "cell_type": "code",
   "execution_count": 108,
   "id": "a38c3e4c",
   "metadata": {},
   "outputs": [
    {
     "data": {
      "text/plain": [
       "['disk', 'format', 'hard', 'how', 'my', 'problems', 'to']"
      ]
     },
     "execution_count": 108,
     "metadata": {},
     "output_type": "execute_result"
    }
   ],
   "source": [
    "# fit_trasnform ha extraido siete caracteristicas de los dos \"documentos\"\n",
    "# Para ver eso usamos get_feature_names\n",
    "vectorizer.get_feature_names()"
   ]
  },
  {
   "cell_type": "code",
   "execution_count": 109,
   "id": "c5365feb",
   "metadata": {},
   "outputs": [
    {
     "data": {
      "text/plain": [
       "array([[1, 1, 1, 1, 1, 0, 1],\n",
       "       [1, 1, 1, 0, 0, 1, 0]], dtype=int64)"
      ]
     },
     "execution_count": 109,
     "metadata": {},
     "output_type": "execute_result"
    }
   ],
   "source": [
    "# Se puede ver cuántas veces cada una de estas siete features se produce en los dos documentos haciendo\n",
    "X.toarray()\n",
    "# Esto genera una fila por cada \"documento\".\n",
    "# Cada elemento especifica el numero de veces que una determianda feature se produjo en ese documento"
   ]
  },
  {
   "cell_type": "code",
   "execution_count": 110,
   "id": "e9956a0b",
   "metadata": {},
   "outputs": [
    {
     "data": {
      "text/plain": [
       "array([1, 1, 1, 1, 1, 0, 1], dtype=int64)"
      ]
     },
     "execution_count": 110,
     "metadata": {},
     "output_type": "execute_result"
    }
   ],
   "source": [
    "X.toarray()[0]\n",
    "# Nos da el vector de el primer documento (\"How to format my hard disk\")\n",
    "# Donde podemos ver que el feature 'problems' no ocurre"
   ]
  },
  {
   "cell_type": "code",
   "execution_count": 111,
   "id": "5b923737",
   "metadata": {},
   "outputs": [
    {
     "data": {
      "text/plain": [
       "1"
      ]
     },
     "execution_count": 111,
     "metadata": {},
     "output_type": "execute_result"
    }
   ],
   "source": [
    "X.toarray()[1,2]\n",
    "# Esto nos devuelve dentro de el primer documento, las ocurrencias del tercer feature (\"hard\")"
   ]
  },
  {
   "cell_type": "code",
   "execution_count": 112,
   "id": "c701e4ef",
   "metadata": {},
   "outputs": [],
   "source": [
    "# Cargamos el dataset de \"20 Newsgroups\"\n",
    "from sklearn.datasets import fetch_20newsgroups"
   ]
  },
  {
   "cell_type": "code",
   "execution_count": 113,
   "id": "baa4aff0",
   "metadata": {},
   "outputs": [],
   "source": [
    "# Para simplificar, vamos a utilizar un subconjunto del dataset que solo pertenecen a estas categorias\n",
    "categories = ['alt.atheism', 'soc.religion.christian', 'comp.graphics',\n",
    "'sci.med']"
   ]
  },
  {
   "cell_type": "code",
   "execution_count": 114,
   "id": "3d4fb464",
   "metadata": {},
   "outputs": [],
   "source": [
    "# Importamos los documentos pertenecientes a las categorias\n",
    "twenty_train = fetch_20newsgroups(subset='train', categories=categories, shuffle=True, random_state=42)"
   ]
  },
  {
   "cell_type": "code",
   "execution_count": 115,
   "id": "43caff0d",
   "metadata": {},
   "outputs": [],
   "source": [
    "# Creamos un nuevo CountVectorizer\n",
    "vectorizer = CountVectorizer()"
   ]
  },
  {
   "cell_type": "code",
   "execution_count": 116,
   "id": "f5f4db3c",
   "metadata": {},
   "outputs": [],
   "source": [
    "# Vectorizamos igual que en el ejemplo anterior\n",
    "train_counts = vectorizer.fit_transform(twenty_train.data)"
   ]
  },
  {
   "cell_type": "code",
   "execution_count": 117,
   "id": "5c63e2dd",
   "metadata": {},
   "outputs": [
    {
     "data": {
      "text/plain": [
       "4690"
      ]
     },
     "execution_count": 117,
     "metadata": {},
     "output_type": "execute_result"
    }
   ],
   "source": [
    "vectorizer.vocabulary_.get('algorithm')\n",
    "# Esto nos da la frecuencia de la palabra \"algorithm\" en el subconjunto de la coleccion"
   ]
  },
  {
   "cell_type": "code",
   "execution_count": 118,
   "id": "3382a612",
   "metadata": {},
   "outputs": [
    {
     "data": {
      "text/plain": [
       "35788"
      ]
     },
     "execution_count": 118,
     "metadata": {},
     "output_type": "execute_result"
    }
   ],
   "source": [
    "len(vectorizer.get_feature_names())\n",
    "# Muestra cuantos terminos fueron ectraidos"
   ]
  },
  {
   "cell_type": "code",
   "execution_count": 119,
   "id": "fa30e103",
   "metadata": {},
   "outputs": [],
   "source": [
    "vectorizer = CountVectorizer(stop_words='english')\n",
    "# Esto elimina las stopwords\n"
   ]
  },
  {
   "cell_type": "code",
   "execution_count": 120,
   "id": "74e0a5c3",
   "metadata": {},
   "outputs": [
    {
     "data": {
      "text/plain": [
       "['a',\n",
       " 'about',\n",
       " 'above',\n",
       " 'across',\n",
       " 'after',\n",
       " 'afterwards',\n",
       " 'again',\n",
       " 'against',\n",
       " 'all',\n",
       " 'almost',\n",
       " 'alone',\n",
       " 'along',\n",
       " 'already',\n",
       " 'also',\n",
       " 'although',\n",
       " 'always',\n",
       " 'am',\n",
       " 'among',\n",
       " 'amongst',\n",
       " 'amoungst']"
      ]
     },
     "execution_count": 120,
     "metadata": {},
     "output_type": "execute_result"
    }
   ],
   "source": [
    "sorted(vectorizer.get_stop_words())[:20]\n",
    "# Esto muestra que palabras son stopwords"
   ]
  },
  {
   "cell_type": "code",
   "execution_count": 121,
   "id": "9cb9cb54",
   "metadata": {},
   "outputs": [],
   "source": [
    "import nltk"
   ]
  },
  {
   "cell_type": "code",
   "execution_count": 122,
   "id": "a645570f",
   "metadata": {},
   "outputs": [],
   "source": [
    "# Creamos un steammer de ingles\n",
    "s = nltk.stem.SnowballStemmer('english')\n"
   ]
  },
  {
   "cell_type": "code",
   "execution_count": 123,
   "id": "cbceffb5",
   "metadata": {},
   "outputs": [
    {
     "data": {
      "text/plain": [
       "'love'"
      ]
     },
     "execution_count": 123,
     "metadata": {},
     "output_type": "execute_result"
    }
   ],
   "source": [
    "# Se puede utilizar para llevar a la raiz (steam) palabras\n",
    "s.stem(\"cats\")\n",
    "s.stem(\"loving\")"
   ]
  },
  {
   "cell_type": "code",
   "execution_count": 124,
   "id": "c579ab74",
   "metadata": {},
   "outputs": [],
   "source": [
    "from nltk.tokenize import word_tokenize\n",
    "\n",
    "text = word_tokenize(\"And now for something completely different\")"
   ]
  },
  {
   "cell_type": "code",
   "execution_count": 125,
   "id": "08c15277",
   "metadata": {},
   "outputs": [
    {
     "data": {
      "text/plain": [
       "[('And', 'CC'),\n",
       " ('now', 'RB'),\n",
       " ('for', 'IN'),\n",
       " ('something', 'NN'),\n",
       " ('completely', 'RB'),\n",
       " ('different', 'JJ')]"
      ]
     },
     "execution_count": 125,
     "metadata": {},
     "output_type": "execute_result"
    }
   ],
   "source": [
    "# Producir una version tokenizada de la frase, que luego puede ser alimentada por el etiquetador POS\n",
    "nltk.pos_tag(text)"
   ]
  },
  {
   "cell_type": "code",
   "execution_count": 126,
   "id": "98ee8533",
   "metadata": {},
   "outputs": [
    {
     "data": {
      "text/plain": [
       "['john', 'bought', 'carrots', 'potatoes']"
      ]
     },
     "execution_count": 126,
     "metadata": {},
     "output_type": "execute_result"
    }
   ],
   "source": [
    "# build_analyzer toma un string como entrada y como salida una lista de tokens\n",
    "from sklearn.feature_extraction.text import CountVectorizer\n",
    "vectorizer = CountVectorizer(stop_words='english')\n",
    "analyze = vectorizer.build_analyzer()\n",
    "analyze(\"John bought carrots and potatoes\")"
   ]
  },
  {
   "cell_type": "code",
   "execution_count": 127,
   "id": "0075b5e0",
   "metadata": {},
   "outputs": [],
   "source": [
    "# Si modificamos build_analyzer para aplicar el steammer de NLTK a la salida del metodo build_analyzer, obtenemos esto\n",
    "import nltk.stem\n",
    "english_stemmer = nltk.stem.SnowballStemmer('english')\n",
    "class StemmedCountVectorizer(CountVectorizer):\n",
    "    def build_analyzer(self):\n",
    "        analyzer = super(StemmedCountVectorizer, self).build_analyzer()\n",
    "        return lambda doc: (english_stemmer.stem(w) for w in analyzer(doc))"
   ]
  },
  {
   "cell_type": "code",
   "execution_count": 128,
   "id": "46a5a8e5",
   "metadata": {},
   "outputs": [],
   "source": [
    "# Creamos una instancia de la clase\n",
    "stem_vectorizer = StemmedCountVectorizer(min_df=1, stop_words='english')\n",
    "stem_analyze = stem_vectorizer.build_analyzer()"
   ]
  },
  {
   "cell_type": "code",
   "execution_count": 129,
   "id": "b0c3f2cc",
   "metadata": {},
   "outputs": [
    {
     "name": "stdout",
     "output_type": "stream",
     "text": [
      "john\n",
      "bought\n",
      "carrot\n",
      "potato\n"
     ]
    }
   ],
   "source": [
    "y = stem_analyze(\"John bought carrots and potatoes\")\n",
    "for tok in y:\n",
    "    print(tok)"
   ]
  },
  {
   "cell_type": "code",
   "execution_count": 130,
   "id": "c172c4a8",
   "metadata": {},
   "outputs": [
    {
     "data": {
      "text/plain": [
       "26888"
      ]
     },
     "execution_count": 130,
     "metadata": {},
     "output_type": "execute_result"
    }
   ],
   "source": [
    "# Si utilizamos este vectorizer en el subconjunto del dataset anterior, vamos a tener menore cantidad de features\n",
    "twenty_train = fetch_20newsgroups(subset='train', categories=categories, shuffle=True, random_state=42)\n",
    "train_counts = stem_vectorizer.fit_transform(twenty_train.data)\n",
    "len(stem_vectorizer.get_feature_names())"
   ]
  },
  {
   "cell_type": "code",
   "execution_count": 131,
   "id": "65642dd7",
   "metadata": {},
   "outputs": [],
   "source": [
    "vectorizerSpanish = CountVectorizer()\n",
    "from nltk.corpus import stopwords\n",
    "spanish_stopwords = stopwords.words('spanish')\n",
    "vectorizerSpanish = CountVectorizer(stop_words=stopwords.words('spanish'))\n",
    "analyze = vectorizerSpanish.build_analyzer()"
   ]
  },
  {
   "cell_type": "code",
   "execution_count": 132,
   "id": "7282c82e",
   "metadata": {},
   "outputs": [
    {
     "data": {
      "text/plain": [
       "['roberto', 'trajo', 'zanahorias', 'papas']"
      ]
     },
     "execution_count": 132,
     "metadata": {},
     "output_type": "execute_result"
    }
   ],
   "source": [
    "analyze(\"Roberto trajo zanahorias y papas\")"
   ]
  },
  {
   "cell_type": "code",
   "execution_count": 133,
   "id": "b60c20de",
   "metadata": {},
   "outputs": [],
   "source": [
    "spanish_stemmer=nltk.stem.SnowballStemmer('spanish')"
   ]
  },
  {
   "cell_type": "code",
   "execution_count": 134,
   "id": "1b0851a1",
   "metadata": {},
   "outputs": [],
   "source": [
    "class StemmedCountVectorizer(CountVectorizer):\n",
    "    def build_analyzer(self):\n",
    "        analyzer=super(StemmedCountVectorizer,self).build_analyzer()\n",
    "        return lambda doc: (spanish_stemmer.stem(w) for w in analyzer(doc))\n",
    "stem_vectorizer = StemmedCountVectorizer(min_df=1, stop_words=stopwords.words('spanish'))\n",
    "stem_analyze = stem_vectorizer.build_analyzer()"
   ]
  },
  {
   "cell_type": "code",
   "execution_count": 135,
   "id": "466907f5",
   "metadata": {},
   "outputs": [
    {
     "name": "stdout",
     "output_type": "stream",
     "text": [
      "robert\n",
      "traj\n",
      "zanahori\n",
      "pap\n"
     ]
    }
   ],
   "source": [
    "Y = stem_analyze(\"Roberto trajo zanahorias y papas\")\n",
    "for tok in Y:\n",
    "    print(tok) \n",
    "# Este resultado ocurre debido a que las reglas que toma el stemmer, remueven los sufijos que son atribuidos a acciones (er,as,ia,ir,es,en), terminaciones plurales e incluso generos\n",
    "# Devolviendo un stem, que seria una palabra sin sufijos.\n",
    "#La manera de mejorar esto es utilizando Lemmatization, que es mas complejo, buscando la mejor palabra de origen para cada elemento"
   ]
  },
  {
   "cell_type": "code",
   "execution_count": null,
   "id": "35a1dae5",
   "metadata": {},
   "outputs": [],
   "source": []
  }
 ],
 "metadata": {
  "kernelspec": {
   "display_name": "Python 3",
   "language": "python",
   "name": "python3"
  },
  "language_info": {
   "codemirror_mode": {
    "name": "ipython",
    "version": 3
   },
   "file_extension": ".py",
   "mimetype": "text/x-python",
   "name": "python",
   "nbconvert_exporter": "python",
   "pygments_lexer": "ipython3",
   "version": "3.9.4"
  }
 },
 "nbformat": 4,
 "nbformat_minor": 5
}
