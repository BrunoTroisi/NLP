{
 "cells": [
  {
   "cell_type": "code",
   "execution_count": 7,
   "id": "a143a9e2",
   "metadata": {},
   "outputs": [
    {
     "name": "stdout",
     "output_type": "stream",
     "text": [
      "showing info https://raw.githubusercontent.com/nltk/nltk_data/gh-pages/index.xml\n"
     ]
    },
    {
     "data": {
      "text/plain": [
       "True"
      ]
     },
     "execution_count": 7,
     "metadata": {},
     "output_type": "execute_result"
    }
   ],
   "source": [
    "# Importar NLTK y descargar un par de corpus\n",
    "import nltk\n",
    "nltk.download()"
   ]
  },
  {
   "cell_type": "code",
   "execution_count": 12,
   "id": "6fd06e52",
   "metadata": {},
   "outputs": [],
   "source": [
    "# Importar los corpus\n",
    "from nltk.book import *"
   ]
  },
  {
   "cell_type": "code",
   "execution_count": 34,
   "id": "19ba61ff",
   "metadata": {},
   "outputs": [
    {
     "name": "stdout",
     "output_type": "stream",
     "text": [
      "text1: Moby Dick by Herman Melville 1851\n",
      "text2: Sense and Sensibility by Jane Austen 1811\n",
      "text3: The Book of Genesis\n",
      "text4: Inaugural Address Corpus\n",
      "text5: Chat Corpus\n",
      "text6: Monty Python and the Holy Grail\n",
      "text7: Wall Street Journal\n",
      "text8: Personals Corpus\n",
      "text9: The Man Who Was Thursday by G . K . Chesterton 1908\n"
     ]
    }
   ],
   "source": [
    "# Importar metodos para expresiones regulares\n",
    "\n",
    "from nltk import word_tokenize\n",
    "from nltk import re\n",
    "\n",
    "texts()"
   ]
  },
  {
   "cell_type": "code",
   "execution_count": 35,
   "id": "42f618be",
   "metadata": {},
   "outputs": [],
   "source": [
    "# Tokenizar, convertir en minuscula y eliminar signos de puntuacion\n",
    "\n",
    "moby_dick_tokens = text1.tokens\n",
    "moby_dick_tokens_nopunct = [word.lower() for word in moby_dick_tokens if re.search('\\w', word)]\n",
    "\n",
    "wsj_tokens = text7.tokens\n",
    "wsj_tokens_nopunct = [word.lower() for word in wsj_tokens if re.search('\\w', word)]\n"
   ]
  },
  {
   "cell_type": "code",
   "execution_count": 36,
   "id": "04448b0a",
   "metadata": {},
   "outputs": [
    {
     "name": "stdout",
     "output_type": "stream",
     "text": [
      "1- Cant de tokens en Moby Dick = 218621\n",
      "2- Cant de types en Moby Dick = 17140\n",
      "3- Type-Token ratio de Moby Dick = 0.07840051962071347\n"
     ]
    }
   ],
   "source": [
    "# Basado en lo que aprendió en las secciones previas, responda las siguientes preguntas\n",
    "\n",
    "#  1 - Cuál es el número de tokens en Moby Dick?\n",
    "\n",
    "tokens_en_moby_dick = len(moby_dick_tokens_nopunct)\n",
    "\n",
    "# 2 - Cuál es el número de types en Moby Dick?\n",
    "\n",
    "types_en_moby_dick = len(set(moby_dick_tokens_nopunct))\n",
    "\n",
    "# 3 - Diversidad lexica de Moby Dick (Types / Tokens)\n",
    "\n",
    "moby_dick_ttr = types_en_moby_dick / tokens_en_moby_dick\n",
    "\n",
    "print(f\"1- Cant de tokens en Moby Dick = {tokens_en_moby_dick}\\n2- Cant de types en Moby Dick = {types_en_moby_dick}\\n3- Type-Token ratio de Moby Dick = {moby_dick_ttr}\")\n",
    "\n"
   ]
  },
  {
   "cell_type": "code",
   "execution_count": 40,
   "id": "4d5d1142",
   "metadata": {},
   "outputs": [
    {
     "name": "stdout",
     "output_type": "stream",
     "text": [
      "4- Type-Token ratio de WSJ = 0.129748424801388\n"
     ]
    }
   ],
   "source": [
    "tokens_en_wsj = len(wsj_tokens_nopunct)\n",
    "types_en_wsj = len(set(wsj_tokens_nopunct))\n",
    "wsj_ttr = types_en_wsj / tokens_en_wsj\n",
    "\n",
    "print(f\"4- Type-Token ratio de WSJ = {wsj_ttr}\")"
   ]
  },
  {
   "cell_type": "code",
   "execution_count": 50,
   "id": "019fd716",
   "metadata": {},
   "outputs": [
    {
     "name": "stdout",
     "output_type": "stream",
     "text": [
      "7- MLE de 'whale' en moby dick = 0.004700577795329328\n",
      "8- MLE de 'whale' en WSJ = 0.0\n"
     ]
    }
   ],
   "source": [
    "# 5- El WSJ es mas lexico diverso\n",
    "\n",
    "# 6- Esto se debe a que es un periodico y el mismo tiene dentro distintas noticias diversas y distintas entre si, mientras que Moby Dick mantiene una trama definida\n",
    "\n",
    "# 7- MLE de 'whale' en Moby Dick\n",
    "\n",
    "mle_whale_in_moby_dick = moby_dick_tokens_nopunct.count(\"whale\") / len(moby_dick_tokens)\n",
    "mle_whale_in_wsj = wsj_tokens_nopunct.count(\"whale\") / len(wsj_tokens)\n",
    "\n",
    "print(f\"7- MLE de 'whale' en moby dick = {mle_whale_in_moby_dick}\\n8- MLE de 'whale' en WSJ = {mle_whale_in_wsj}\")"
   ]
  },
  {
   "cell_type": "code",
   "execution_count": null,
   "id": "7984966e",
   "metadata": {},
   "outputs": [],
   "source": []
  }
 ],
 "metadata": {
  "kernelspec": {
   "display_name": "Python 3",
   "language": "python",
   "name": "python3"
  },
  "language_info": {
   "codemirror_mode": {
    "name": "ipython",
    "version": 3
   },
   "file_extension": ".py",
   "mimetype": "text/x-python",
   "name": "python",
   "nbconvert_exporter": "python",
   "pygments_lexer": "ipython3",
   "version": "3.9.4"
  }
 },
 "nbformat": 4,
 "nbformat_minor": 5
}
